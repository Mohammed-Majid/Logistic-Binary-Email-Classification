{
 "cells": [
  {
   "cell_type": "markdown",
   "metadata": {},
   "source": [
    "## Email binary classification using logistic regression"
   ]
  },
  {
   "cell_type": "code",
   "execution_count": 1,
   "metadata": {},
   "outputs": [],
   "source": [
    "import numpy as np\n",
    "import pandas as pd\n",
    "from sklearn.model_selection import train_test_split\n",
    "from sklearn.feature_extraction.text import TfidfVectorizer\n",
    "from sklearn.linear_model import LogisticRegression \n",
    "from sklearn.metrics import accuracy_score\n",
    "from sklearn.metrics import confusion_matrix, classification_report\n",
    "import seaborn as sns\n",
    "import os\n"
   ]
  },
  {
   "cell_type": "markdown",
   "metadata": {},
   "source": [
    "### Pre-processing"
   ]
  },
  {
   "cell_type": "code",
   "execution_count": 92,
   "metadata": {},
   "outputs": [
    {
     "name": "stdout",
     "output_type": "stream",
     "text": [
      "True\n"
     ]
    }
   ],
   "source": [
    "print(os.path.exists('email_classification.csv'))"
   ]
  },
  {
   "cell_type": "code",
   "execution_count": 93,
   "metadata": {},
   "outputs": [
    {
     "data": {
      "text/html": [
       "<div>\n",
       "<style scoped>\n",
       "    .dataframe tbody tr th:only-of-type {\n",
       "        vertical-align: middle;\n",
       "    }\n",
       "\n",
       "    .dataframe tbody tr th {\n",
       "        vertical-align: top;\n",
       "    }\n",
       "\n",
       "    .dataframe thead th {\n",
       "        text-align: right;\n",
       "    }\n",
       "</style>\n",
       "<table border=\"1\" class=\"dataframe\">\n",
       "  <thead>\n",
       "    <tr style=\"text-align: right;\">\n",
       "      <th></th>\n",
       "      <th>email</th>\n",
       "      <th>label</th>\n",
       "    </tr>\n",
       "  </thead>\n",
       "  <tbody>\n",
       "    <tr>\n",
       "      <th>0</th>\n",
       "      <td>Upgrade to our premium plan for exclusive acce...</td>\n",
       "      <td>0</td>\n",
       "    </tr>\n",
       "    <tr>\n",
       "      <th>1</th>\n",
       "      <td>Happy holidays from our team! Wishing you joy ...</td>\n",
       "      <td>0</td>\n",
       "    </tr>\n",
       "    <tr>\n",
       "      <th>2</th>\n",
       "      <td>We're hiring! Check out our career opportuniti...</td>\n",
       "      <td>0</td>\n",
       "    </tr>\n",
       "    <tr>\n",
       "      <th>3</th>\n",
       "      <td>Your Amazon account has been locked. Click her...</td>\n",
       "      <td>1</td>\n",
       "    </tr>\n",
       "    <tr>\n",
       "      <th>4</th>\n",
       "      <td>Your opinion matters! Take our survey and help...</td>\n",
       "      <td>0</td>\n",
       "    </tr>\n",
       "  </tbody>\n",
       "</table>\n",
       "</div>"
      ],
      "text/plain": [
       "                                               email  label\n",
       "0  Upgrade to our premium plan for exclusive acce...      0\n",
       "1  Happy holidays from our team! Wishing you joy ...      0\n",
       "2  We're hiring! Check out our career opportuniti...      0\n",
       "3  Your Amazon account has been locked. Click her...      1\n",
       "4  Your opinion matters! Take our survey and help...      0"
      ]
     },
     "execution_count": 93,
     "metadata": {},
     "output_type": "execute_result"
    }
   ],
   "source": [
    "df = pd.read_csv('email_classification.csv', encoding='cp1252')\n",
    "df.head()"
   ]
  },
  {
   "cell_type": "code",
   "execution_count": 94,
   "metadata": {},
   "outputs": [
    {
     "data": {
      "text/plain": [
       "False"
      ]
     },
     "execution_count": 94,
     "metadata": {},
     "output_type": "execute_result"
    }
   ],
   "source": [
    "df.isnull().values.any()"
   ]
  },
  {
   "cell_type": "code",
   "execution_count": 74,
   "metadata": {},
   "outputs": [],
   "source": [
    "# df = df.drop_duplicates()"
   ]
  },
  {
   "cell_type": "code",
   "execution_count": 95,
   "metadata": {},
   "outputs": [
    {
     "name": "stdout",
     "output_type": "stream",
     "text": [
      "0      Upgrade to our premium plan for exclusive acce...\n",
      "1      Happy holidays from our team! Wishing you joy ...\n",
      "2      We're hiring! Check out our career opportuniti...\n",
      "3      Your Amazon account has been locked. Click her...\n",
      "4      Your opinion matters! Take our survey and help...\n",
      "                             ...                        \n",
      "174    We're pleased to inform you that your refund h...\n",
      "175    Get rich quick! Invest in our revolutionary ne...\n",
      "176    Your free trial period is ending soon. Upgrade...\n",
      "177    Your order is on its way! Track your shipment ...\n",
      "178    Limited-time offer! Get 50% off on all purchas...\n",
      "Name: email, Length: 179, dtype: object 0      0\n",
      "1      0\n",
      "2      0\n",
      "3      1\n",
      "4      0\n",
      "      ..\n",
      "174    0\n",
      "175    1\n",
      "176    0\n",
      "177    0\n",
      "178    1\n",
      "Name: label, Length: 179, dtype: int64\n"
     ]
    }
   ],
   "source": [
    "x = df['email']\n",
    "y = df['label']\n",
    "print(x, y)"
   ]
  },
  {
   "cell_type": "markdown",
   "metadata": {},
   "source": [
    "### Splitting the dataset (Train and Test sets)"
   ]
  },
  {
   "cell_type": "code",
   "execution_count": 96,
   "metadata": {},
   "outputs": [],
   "source": [
    "x_train, x_test, y_train, y_test = train_test_split(x, y, test_size=0.2, random_state = 42)"
   ]
  },
  {
   "cell_type": "code",
   "execution_count": 97,
   "metadata": {},
   "outputs": [
    {
     "name": "stdout",
     "output_type": "stream",
     "text": [
      "158    We're experiencing technical difficulties. Our...\n",
      "31     Your account has been banned. Click here to ap...\n",
      "12     You're pre-approved for a loan. Click here to ...\n",
      "51     You've been selected for a free trial of our p...\n",
      "41     We appreciate your business. Here's a token of...\n",
      "                             ...                        \n",
      "71     Your Netflix subscription has expired. Click h...\n",
      "106    Your order is confirmed. You'll receive a conf...\n",
      "14     We're excited to announce our upcoming webinar...\n",
      "92     You've won a shopping spree! Click here to cla...\n",
      "102    Your trial period has ended. Upgrade to a prem...\n",
      "Name: email, Length: 143, dtype: object 158    0\n",
      "31     1\n",
      "12     1\n",
      "51     1\n",
      "41     0\n",
      "      ..\n",
      "71     1\n",
      "106    0\n",
      "14     0\n",
      "92     1\n",
      "102    0\n",
      "Name: label, Length: 143, dtype: int64\n"
     ]
    }
   ],
   "source": [
    "print(x_train, y_train)"
   ]
  },
  {
   "cell_type": "markdown",
   "metadata": {},
   "source": [
    "### Feature Extraction"
   ]
  },
  {
   "cell_type": "code",
   "execution_count": 98,
   "metadata": {},
   "outputs": [],
   "source": [
    "features = TfidfVectorizer(min_df=1, stop_words='english', lowercase = True)"
   ]
  },
  {
   "cell_type": "code",
   "execution_count": 99,
   "metadata": {},
   "outputs": [],
   "source": [
    "x_train_features = features.fit_transform(x_train)\n",
    "x_test_features = features.transform(x_test)"
   ]
  },
  {
   "cell_type": "code",
   "execution_count": 100,
   "metadata": {},
   "outputs": [
    {
     "name": "stdout",
     "output_type": "stream",
     "text": [
      "  (0, 21)\t0.38469813908464345\n",
      "  (0, 167)\t0.33416387664339936\n",
      "  (0, 276)\t0.38469813908464345\n",
      "  (0, 390)\t0.3551374905549141\n",
      "  (0, 335)\t0.28362961420215527\n",
      "  (0, 83)\t0.38469813908464345\n",
      "  (0, 336)\t0.33416387664339936\n",
      "  (0, 110)\t0.3551374905549141\n",
      "  (1, 28)\t0.5394497219255389\n",
      "  (1, 16)\t0.5394497219255389\n",
      "  (1, 53)\t0.2193622860822965\n",
      "  (1, 30)\t0.5394497219255389\n",
      "  (1, 2)\t0.280824108630518\n",
      "  (2, 17)\t0.4630256397795671\n",
      "  (2, 182)\t0.5172699055273104\n",
      "  (2, 20)\t0.48672111928223233\n",
      "  (2, 235)\t0.48672111928223233\n",
      "  (2, 53)\t0.2103430669924541\n",
      "  (3, 6)\t0.4543383738595118\n",
      "  (3, 300)\t0.4141469051761325\n",
      "  (3, 236)\t0.35406408256104216\n",
      "  (3, 349)\t0.37395543649275326\n",
      "  (3, 126)\t0.33750495360541544\n",
      "  (3, 296)\t0.3635116429804479\n",
      "  (3, 372)\t0.26879718407518016\n",
      "  :\t:\n",
      "  (139, 95)\t0.33212140492973086\n",
      "  (139, 181)\t0.3529668242153693\n",
      "  (140, 316)\t0.3718088656588366\n",
      "  (140, 274)\t0.3718088656588366\n",
      "  (140, 265)\t0.3718088656588366\n",
      "  (140, 297)\t0.3718088656588366\n",
      "  (140, 381)\t0.3718088656588366\n",
      "  (140, 106)\t0.29439752682568776\n",
      "  (140, 358)\t0.34323864375932295\n",
      "  (140, 12)\t0.3229677487252014\n",
      "  (141, 377)\t0.4475910122365331\n",
      "  (141, 52)\t0.3219708911329283\n",
      "  (141, 317)\t0.47049661992831676\n",
      "  (141, 306)\t0.47049661992831676\n",
      "  (141, 388)\t0.3666561392731966\n",
      "  (141, 372)\t0.2783567795062094\n",
      "  (141, 53)\t0.20333143174730095\n",
      "  (142, 355)\t0.4139125341622701\n",
      "  (142, 97)\t0.4139125341622701\n",
      "  (142, 226)\t0.3821070178331975\n",
      "  (142, 1)\t0.3156432324291414\n",
      "  (142, 229)\t0.3821070178331975\n",
      "  (142, 362)\t0.3156432324291414\n",
      "  (142, 236)\t0.2801885904729394\n",
      "  (142, 349)\t0.29592961221231234\n"
     ]
    }
   ],
   "source": [
    "print(x_train_features)"
   ]
  },
  {
   "cell_type": "code",
   "execution_count": 101,
   "metadata": {},
   "outputs": [
    {
     "name": "stdout",
     "output_type": "stream",
     "text": [
      "  (0, 342)\t0.41120775351821665\n",
      "  (0, 209)\t0.3747586897741493\n",
      "  (0, 190)\t0.46839559884706733\n",
      "  (0, 178)\t0.42696060650297857\n",
      "  (0, 53)\t0.2024234472762397\n",
      "  (0, 5)\t0.4977941937722593\n",
      "  (1, 386)\t0.5998061166078063\n",
      "  (1, 241)\t0.4645305718195575\n",
      "  (1, 108)\t0.4645305718195575\n",
      "  (1, 53)\t0.24390566089381427\n",
      "  (1, 52)\t0.38621929878477645\n",
      "  (2, 372)\t0.29566489242285415\n",
      "  (2, 296)\t0.3998465653055672\n",
      "  (2, 241)\t0.4113342715325737\n",
      "  (2, 166)\t0.5311185678678868\n",
      "  (2, 126)\t0.37124036899142376\n",
      "  (2, 53)\t0.21597449862869092\n",
      "  (2, 52)\t0.3419909120193862\n",
      "  (3, 374)\t0.5960036609207093\n",
      "  (3, 170)\t0.45450308107572884\n",
      "  (3, 108)\t0.4261169152810385\n",
      "  (3, 53)\t0.22373624933350283\n",
      "  (3, 1)\t0.45450308107572884\n",
      "  (4, 241)\t0.713023948767309\n",
      "  (4, 53)\t0.3743791862309583\n",
      "  :\t:\n",
      "  (31, 40)\t0.5472772885655182\n",
      "  (32, 386)\t0.44062870494464285\n",
      "  (32, 283)\t0.44062870494464285\n",
      "  (32, 131)\t0.41460617400486677\n",
      "  (32, 73)\t0.4773054023516837\n",
      "  (32, 62)\t0.31523024825100904\n",
      "  (32, 53)\t0.17917762509011048\n",
      "  (32, 52)\t0.28372386465581656\n",
      "  (33, 315)\t0.3566379131423207\n",
      "  (33, 286)\t0.5400027553533334\n",
      "  (33, 165)\t0.5400027553533334\n",
      "  (33, 104)\t0.49850832105721876\n",
      "  (33, 53)\t0.20271384059264233\n",
      "  (34, 300)\t0.36381157012170606\n",
      "  (34, 254)\t0.37968754839715074\n",
      "  (34, 182)\t0.4241686105823232\n",
      "  (34, 159)\t0.4594752159062938\n",
      "  (34, 53)\t0.17248427855253054\n",
      "  (34, 43)\t0.4241686105823232\n",
      "  (34, 1)\t0.35038862174896745\n",
      "  (35, 386)\t0.5460995432725476\n",
      "  (35, 241)\t0.4229365558015288\n",
      "  (35, 189)\t0.5915553374093521\n",
      "  (35, 53)\t0.22206637499629547\n",
      "  (35, 52)\t0.35163726549210894\n"
     ]
    }
   ],
   "source": [
    "print(x_test_features)"
   ]
  },
  {
   "cell_type": "markdown",
   "metadata": {},
   "source": [
    "### Modeling"
   ]
  },
  {
   "cell_type": "code",
   "execution_count": 102,
   "metadata": {},
   "outputs": [],
   "source": [
    "model = LogisticRegression()"
   ]
  },
  {
   "cell_type": "code",
   "execution_count": 103,
   "metadata": {},
   "outputs": [
    {
     "data": {
      "text/html": [
       "<style>#sk-container-id-3 {color: black;}#sk-container-id-3 pre{padding: 0;}#sk-container-id-3 div.sk-toggleable {background-color: white;}#sk-container-id-3 label.sk-toggleable__label {cursor: pointer;display: block;width: 100%;margin-bottom: 0;padding: 0.3em;box-sizing: border-box;text-align: center;}#sk-container-id-3 label.sk-toggleable__label-arrow:before {content: \"▸\";float: left;margin-right: 0.25em;color: #696969;}#sk-container-id-3 label.sk-toggleable__label-arrow:hover:before {color: black;}#sk-container-id-3 div.sk-estimator:hover label.sk-toggleable__label-arrow:before {color: black;}#sk-container-id-3 div.sk-toggleable__content {max-height: 0;max-width: 0;overflow: hidden;text-align: left;background-color: #f0f8ff;}#sk-container-id-3 div.sk-toggleable__content pre {margin: 0.2em;color: black;border-radius: 0.25em;background-color: #f0f8ff;}#sk-container-id-3 input.sk-toggleable__control:checked~div.sk-toggleable__content {max-height: 200px;max-width: 100%;overflow: auto;}#sk-container-id-3 input.sk-toggleable__control:checked~label.sk-toggleable__label-arrow:before {content: \"▾\";}#sk-container-id-3 div.sk-estimator input.sk-toggleable__control:checked~label.sk-toggleable__label {background-color: #d4ebff;}#sk-container-id-3 div.sk-label input.sk-toggleable__control:checked~label.sk-toggleable__label {background-color: #d4ebff;}#sk-container-id-3 input.sk-hidden--visually {border: 0;clip: rect(1px 1px 1px 1px);clip: rect(1px, 1px, 1px, 1px);height: 1px;margin: -1px;overflow: hidden;padding: 0;position: absolute;width: 1px;}#sk-container-id-3 div.sk-estimator {font-family: monospace;background-color: #f0f8ff;border: 1px dotted black;border-radius: 0.25em;box-sizing: border-box;margin-bottom: 0.5em;}#sk-container-id-3 div.sk-estimator:hover {background-color: #d4ebff;}#sk-container-id-3 div.sk-parallel-item::after {content: \"\";width: 100%;border-bottom: 1px solid gray;flex-grow: 1;}#sk-container-id-3 div.sk-label:hover label.sk-toggleable__label {background-color: #d4ebff;}#sk-container-id-3 div.sk-serial::before {content: \"\";position: absolute;border-left: 1px solid gray;box-sizing: border-box;top: 0;bottom: 0;left: 50%;z-index: 0;}#sk-container-id-3 div.sk-serial {display: flex;flex-direction: column;align-items: center;background-color: white;padding-right: 0.2em;padding-left: 0.2em;position: relative;}#sk-container-id-3 div.sk-item {position: relative;z-index: 1;}#sk-container-id-3 div.sk-parallel {display: flex;align-items: stretch;justify-content: center;background-color: white;position: relative;}#sk-container-id-3 div.sk-item::before, #sk-container-id-3 div.sk-parallel-item::before {content: \"\";position: absolute;border-left: 1px solid gray;box-sizing: border-box;top: 0;bottom: 0;left: 50%;z-index: -1;}#sk-container-id-3 div.sk-parallel-item {display: flex;flex-direction: column;z-index: 1;position: relative;background-color: white;}#sk-container-id-3 div.sk-parallel-item:first-child::after {align-self: flex-end;width: 50%;}#sk-container-id-3 div.sk-parallel-item:last-child::after {align-self: flex-start;width: 50%;}#sk-container-id-3 div.sk-parallel-item:only-child::after {width: 0;}#sk-container-id-3 div.sk-dashed-wrapped {border: 1px dashed gray;margin: 0 0.4em 0.5em 0.4em;box-sizing: border-box;padding-bottom: 0.4em;background-color: white;}#sk-container-id-3 div.sk-label label {font-family: monospace;font-weight: bold;display: inline-block;line-height: 1.2em;}#sk-container-id-3 div.sk-label-container {text-align: center;}#sk-container-id-3 div.sk-container {/* jupyter's `normalize.less` sets `[hidden] { display: none; }` but bootstrap.min.css set `[hidden] { display: none !important; }` so we also need the `!important` here to be able to override the default hidden behavior on the sphinx rendered scikit-learn.org. See: https://github.com/scikit-learn/scikit-learn/issues/21755 */display: inline-block !important;position: relative;}#sk-container-id-3 div.sk-text-repr-fallback {display: none;}</style><div id=\"sk-container-id-3\" class=\"sk-top-container\"><div class=\"sk-text-repr-fallback\"><pre>LogisticRegression()</pre><b>In a Jupyter environment, please rerun this cell to show the HTML representation or trust the notebook. <br />On GitHub, the HTML representation is unable to render, please try loading this page with nbviewer.org.</b></div><div class=\"sk-container\" hidden><div class=\"sk-item\"><div class=\"sk-estimator sk-toggleable\"><input class=\"sk-toggleable__control sk-hidden--visually\" id=\"sk-estimator-id-3\" type=\"checkbox\" checked><label for=\"sk-estimator-id-3\" class=\"sk-toggleable__label sk-toggleable__label-arrow\">LogisticRegression</label><div class=\"sk-toggleable__content\"><pre>LogisticRegression()</pre></div></div></div></div></div>"
      ],
      "text/plain": [
       "LogisticRegression()"
      ]
     },
     "execution_count": 103,
     "metadata": {},
     "output_type": "execute_result"
    }
   ],
   "source": [
    "model.fit(x_train_features, y_train)"
   ]
  },
  {
   "cell_type": "markdown",
   "metadata": {},
   "source": [
    "### Prediction on training data"
   ]
  },
  {
   "cell_type": "code",
   "execution_count": 104,
   "metadata": {},
   "outputs": [],
   "source": [
    "prediction_training_data = model.predict(x_train_features)\n",
    "accuracy_training_data = accuracy_score(y_train, prediction_training_data)"
   ]
  },
  {
   "cell_type": "code",
   "execution_count": 105,
   "metadata": {},
   "outputs": [
    {
     "name": "stdout",
     "output_type": "stream",
     "text": [
      "the prediction is [0 1 1 1 0 1 0 0 0 1 0 0 0 0 1 0 0 0 0 1 1 0 0 0 0 1 1 1 0 1 1 0 0 1 0 1 0\n",
      " 1 1 0 1 0 0 0 0 0 0 0 0 1 0 0 0 1 0 1 0 1 1 0 0 0 0 0 0 1 1 0 0 0 0 0 1 0\n",
      " 1 0 1 0 0 0 1 0 0 0 1 1 0 1 0 0 0 0 0 1 0 0 1 0 1 0 0 1 0 0 1 0 1 0 1 1 0\n",
      " 1 0 1 0 0 1 1 0 1 0 1 0 1 0 0 1 0 0 0 0 0 1 0 0 1 0 1 1 0 0 1 0]\n",
      "accuracy: 0.972027972027972\n"
     ]
    }
   ],
   "source": [
    "print(f\"the prediction is {prediction_training_data}\")\n",
    "print(f\"accuracy: {accuracy_training_data}\")"
   ]
  },
  {
   "cell_type": "markdown",
   "metadata": {},
   "source": [
    "### Prediction on testing data"
   ]
  },
  {
   "cell_type": "code",
   "execution_count": 106,
   "metadata": {},
   "outputs": [],
   "source": [
    "prediction_testing_data = model.predict(x_test_features)\n",
    "accuracy_testing_data = accuracy_score(y_test, prediction_testing_data)"
   ]
  },
  {
   "cell_type": "code",
   "execution_count": 107,
   "metadata": {},
   "outputs": [
    {
     "name": "stdout",
     "output_type": "stream",
     "text": [
      "the prediction is [1 1 1 1 1 1 0 1 1 0 1 0 1 0 1 0 1 1 0 0 0 0 1 1 0 0 1 0 0 0 0 1 1 0 1 1]\n",
      "accuracy: 0.9444444444444444\n"
     ]
    }
   ],
   "source": [
    "print(f\"the prediction is {prediction_testing_data}\")\n",
    "print(f\"accuracy: {accuracy_testing_data}\")"
   ]
  },
  {
   "cell_type": "markdown",
   "metadata": {},
   "source": [
    "### Evaluation"
   ]
  },
  {
   "cell_type": "code",
   "execution_count": 108,
   "metadata": {},
   "outputs": [
    {
     "data": {
      "text/plain": [
       "<Axes: >"
      ]
     },
     "execution_count": 108,
     "metadata": {},
     "output_type": "execute_result"
    },
    {
     "data": {
      "image/png": "[encoded data removed]",
      "text/plain": [
       "<Figure size 640x480 with 2 Axes>"
      ]
     },
     "metadata": {},
     "output_type": "display_data"
    }
   ],
   "source": [
    "sns.heatmap(confusion_matrix(y_test, prediction_testing_data), annot=True)"
   ]
  },
  {
   "cell_type": "code",
   "execution_count": 109,
   "metadata": {},
   "outputs": [
    {
     "name": "stdout",
     "output_type": "stream",
     "text": [
      "              precision    recall  f1-score   support\n",
      "\n",
      "           0       0.88      1.00      0.93        14\n",
      "           1       1.00      0.91      0.95        22\n",
      "\n",
      "    accuracy                           0.94        36\n",
      "   macro avg       0.94      0.95      0.94        36\n",
      "weighted avg       0.95      0.94      0.94        36\n",
      "\n"
     ]
    }
   ],
   "source": [
    "print(classification_report(y_test, prediction_testing_data))"
   ]
  },
  {
   "cell_type": "code",
   "execution_count": 110,
   "metadata": {},
   "outputs": [
    {
     "name": "stdout",
     "output_type": "stream",
     "text": [
      "[0]\n",
      "Ham mail\n"
     ]
    }
   ],
   "source": [
    "user_input = input(\"Enter an E-mail\")\n",
    "input_mail = []\n",
    "input_mail.append(user_input)\n",
    "\n",
    "input_features = features.transform(input_mail)\n",
    "\n",
    "prediction = model.predict(input_features)\n",
    "print(prediction)\n",
    "\n",
    "if prediction[0] == 1:\n",
    "    print(\"Spam mail\")\n",
    "elif prediction[0] == 0:\n",
    "    print(\"Ham mail\")\n",
    "\n",
    "input_mail.clear()"
   ]
  }
 ],
 "metadata": {
  "kernelspec": {
   "display_name": "MLenv1",
   "language": "python",
   "name": "python3"
  },
  "language_info": {
   "name": "python",
   "version": "3.11.4"
  }
 },
 "nbformat": 4,
 "nbformat_minor": 2
}
